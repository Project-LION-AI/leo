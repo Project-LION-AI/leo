{
 "cells": [
  {
   "cell_type": "code",
   "execution_count": 36,
   "metadata": {},
   "outputs": [],
   "source": [
    "import os\n",
    "import requests\n",
    "os.environ[\"CHARMVERSE_API_KEY\"] = \"33ef425c2542eb2b52f25d74473105cd23845050\"\n",
    "api_key = os.environ[\"CHARMVERSE_API_KEY\"]"
   ]
  },
  {
   "cell_type": "code",
   "execution_count": 59,
   "metadata": {},
   "outputs": [
    {
     "data": {
      "text/plain": [
       "\"Talent DAO is a community of digital vagabonds, deranged scientists, and renegade internet natives, passionate about DAOs and the future of work.Our missionDecentralize Knowledge and Unleash unrealized talent into the world.ValuesWe believe in self-sovereign work\\xa0- Individuals should have the freedom to work where, how, and when they want without relying on institutions or third parties for their livelihood. Nobody can tell us what to do.Traditional work has failed us\\xa0- Existing institutional structures and hierarchical approaches to business management have led to human coordination failures. These coordination failures won't get fixed within our current work paradigms where economic incentives encourage behavior that is counterproductive to humanity. DAOs offer a superior model for human coordination\\xa0- DAOs are distributed, borderless, and permissionless open systems enabled by the blockchain and incentivized with community ownership. They allow us to coordinate, communicate and cooperate in ways that are difficult in traditional work settings.Knowledge should be open-source\\xa0- Traditional researchers are forced to operate in a closed-source universe because they are incentivized to publish or perish. This is unacceptable. We believe that creating mechanisms to incentivize open-source publications and community ownership provides a better way.Core Team                      Nemo PhD Founder, Industrial/Organizational Psychologist, and Chief Scientist.                      k3nn.ethCore Team Founder, Industrial/Organizational Psychologist, Data Science & Research.                       ItamarGoCore Team Founder, Editor, Newsletter of Decentralized Work.                     Sherifoz Core Team Founder, Industrial/Organizational Psychologist, and Researcher.                       IsraelRex                 UI/UX and Product DesignerProf. Burns Core Team Founder, Academic Partnerships and Product Advisor.                        Saulthorin Founder, Industrial/Organizational Psychologist, and Business Development.                     Lisa Wocken PhDCore Team Founder, Organizational Leadership, Researcher & Educator.                      Mr. Nobody Core Team Founder, Organizational Psychologist and Researcher.                       Liagodoyf         Core Team Founder and Design Lead.                         Jaxcoder                     Engineering Lead, JoDW                     Blockpusher_J  Core Team Founder     SocialsNemo PhD Discord: Nemo-phd#3075Mr. NobodyTwitter: @signornessuno11Discord: Mr.Nobody#0187WebsiteLiagodoyfTwitter: @liagodoyfDiscord: liagodoyf#2119WebsiteIsraelRexTwitter: @israelrex9Discord: israelrex#3613SaulthorinTwitter: @saulthorinDiscord: Saulthorin#7696Lisa Wocken, PhDTwitter: @LisaWockenDiscord: lisawocken#2091WebsiteSherifozTwitter: @salqallawiDiscord: sherfioz#7023Blockpusher_JDiscord: Blockpusher_J#3137k3nn.ethTwitter: @k3nnethfrancisDiscord: k3nn.eth#0270WebsiteItamarGoTwitter: @gitamarDiscord: ItamarGo#1996WebsiteJaxcoderTwitter: @codenamejasonDiscord: JaxCoder | Pharo#8789Prof. Burns Discord: profburns#1908\""
      ]
     },
     "execution_count": 59,
     "metadata": {},
     "output_type": "execute_result"
    }
   ],
   "source": [
    "def get_page_text(pageid:str):\n",
    "    # pageid=\"8447578452069819\"\n",
    "    api = api_key\n",
    "    # Set the API endpoint URL\n",
    "    url = \"https://app.charmverse.io/api/v1/pages/page-\"+pageid\n",
    "    #Set the headers with the API key\n",
    "    headers = {\"Authorization\": f\"Bearer {api}\"}\n",
    "\n",
    "    # Make the API request\n",
    "    response = requests.get(url, headers=headers)\n",
    "    # transform the response into a dictionary\n",
    "    data = response.json()\n",
    "    return data\n",
    "     \n",
    "d = get_page_text(\"8447578452069819\")\n",
    "\n",
    "d[\"content\"][\"text\"]"
   ]
  },
  {
   "cell_type": "code",
   "execution_count": 61,
   "metadata": {},
   "outputs": [
    {
     "data": {
      "text/plain": [
       "'/Users/kennycavanagh/Desktop/files/lab/repositories/leo/text/Who we are-8447578452069819.txt'"
      ]
     },
     "execution_count": 61,
     "metadata": {},
     "output_type": "execute_result"
    }
   ],
   "source": [
    "import re\n",
    "### function to push responses to the leo/text/ folder with the pageid and title as the filepath\n",
    "def push_response_to_file(pageid:str):\n",
    "    # pageid=\"8447578452069819\"\n",
    "    # regex to extract title from response (it is always at the end of the response before the url it looks like \"title\":\"test\",\"url\":\"https...\"\n",
    "    response = get_page_text(pageid)\n",
    "    content = response[\"content\"][\"text\"]\n",
    "    title = response[\"title\"]\n",
    "\n",
    "    # create the doc string\n",
    "    docstring = f\"\"\"\n",
    "    {title}\n",
    "\n",
    "    {content}\"\"\"\n",
    "\n",
    "\n",
    "    root_dir = os.path.dirname(os.path.abspath(os.getcwd()))\n",
    "    filepath = root_dir+\"/text/\"+title+\"-\"+pageid+\".txt\"\n",
    "    with open(filepath, \"w\") as f:\n",
    "        f.write(docstring)\n",
    "    return filepath\n",
    "\n",
    "push_response_to_file(\"8447578452069819\")\n"
   ]
  },
  {
   "cell_type": "code",
   "execution_count": 62,
   "metadata": {},
   "outputs": [],
   "source": [
    "page_list = ['9641086764282043'\n",
    "             , '7205143132895131'\n",
    "             , '913082531036365'\n",
    "             , '7582571082844083'\n",
    "             , '07297563631198511'\n",
    "             , '369094656903995'\n",
    "             , '0587439828660925'\n",
    "             , '48624766899128535'\n",
    "             , '20786752570778955'\n",
    "             , '453486725528397'\n",
    "             , '39728612307101807'\n",
    "             , '036411874341360395'\n",
    "             , '35880646521161363'\n",
    "             , '6768711877289233'\n",
    "             , '8231255578459296'\n",
    "             ]\n",
    "\n",
    "for page in page_list:\n",
    "    push_response_to_file(page)"
   ]
  },
  {
   "cell_type": "code",
   "execution_count": 40,
   "metadata": {},
   "outputs": [
    {
     "name": "stdout",
     "output_type": "stream",
     "text": [
      "https://app.charmverse.io/api/v1/databases/6ad73203-39e4-41f2-ab02-570be300304e\n"
     ]
    },
    {
     "data": {
      "text/plain": [
       "'{\"errorType\":\"Data not found\",\"code\":404,\"errorConstructor\":\"DatabasePageNotFoundError\",\"severity\":\"warning\",\"error\":{},\"message\":\"Database page with id \\'6ad73203-39e4-41f2-ab02-570be300304e\\' was not found\"}'"
      ]
     },
     "execution_count": 40,
     "metadata": {},
     "output_type": "execute_result"
    }
   ],
   "source": [
    "# doesn't work\n",
    "def get_pages_from_db(databaseId:str):\n",
    "    api = api_key\n",
    "    # databaseid=\"8447578452069819\"\n",
    "    # Set the API endpoint URL\n",
    "    url = f\"https://app.charmverse.io/api/v1/databases/{databaseId}\"\n",
    "    #Set the headers with the API key\n",
    "    headers = {\"Authorization\": f\"Bearer {api}\"}\n",
    "    # Make the API request\n",
    "    response = requests.get(url, headers=headers)\n",
    "    print(url)\n",
    "    return response.text\n",
    "    \n",
    "get_pages_from_db(databaseId=\"6ad73203-39e4-41f2-ab02-570be300304e\")\n"
   ]
  }
 ],
 "metadata": {
  "kernelspec": {
   "display_name": "leo_env",
   "language": "python",
   "name": "python3"
  },
  "language_info": {
   "codemirror_mode": {
    "name": "ipython",
    "version": 3
   },
   "file_extension": ".py",
   "mimetype": "text/x-python",
   "name": "python",
   "nbconvert_exporter": "python",
   "pygments_lexer": "ipython3",
   "version": "3.11.0 (main, Mar  1 2023, 12:49:28) [Clang 14.0.6 ]"
  },
  "orig_nbformat": 4,
  "vscode": {
   "interpreter": {
    "hash": "5bd071745ec933c7984f36109de0afbdd84ca66c5dc68223d43ac36c0235fc15"
   }
  }
 },
 "nbformat": 4,
 "nbformat_minor": 2
}
